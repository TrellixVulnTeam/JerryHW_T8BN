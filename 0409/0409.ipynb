{
 "cells": [
  {
   "cell_type": "code",
   "execution_count": 5,
   "metadata": {},
   "outputs": [],
   "source": [
    "class Person():\n",
    "    def __init__(self,name):\n",
    "        self.name=name"
   ]
  },
  {
   "cell_type": "code",
   "execution_count": 6,
   "metadata": {},
   "outputs": [],
   "source": [
    "a =Person('Jocelyn')"
   ]
  },
  {
   "cell_type": "code",
   "execution_count": 7,
   "metadata": {},
   "outputs": [
    {
     "data": {
      "text/plain": [
       "'Jocelyn'"
      ]
     },
     "execution_count": 7,
     "metadata": {},
     "output_type": "execute_result"
    }
   ],
   "source": [
    "a.name"
   ]
  },
  {
   "cell_type": "code",
   "execution_count": 9,
   "metadata": {},
   "outputs": [
    {
     "name": "stdout",
     "output_type": "stream",
     "text": [
      "I'm a Car!\n"
     ]
    }
   ],
   "source": [
    "class Car():\n",
    "    def saying(self):\n",
    "        print(\"I'm a Car!\")\n",
    "class Book(Car):\n",
    "    pass\n",
    "\n",
    "give_me_a_car=Car()\n",
    "give_me_a_book=Book()\n",
    "\n",
    "give_me_a_car.saying()"
   ]
  },
  {
   "cell_type": "code",
   "execution_count": 10,
   "metadata": {},
   "outputs": [
    {
     "name": "stdout",
     "output_type": "stream",
     "text": [
      "I'm a Car!\n"
     ]
    }
   ],
   "source": [
    "give_me_a_book.saying()"
   ]
  },
  {
   "cell_type": "code",
   "execution_count": 19,
   "metadata": {},
   "outputs": [],
   "source": [
    "class Book(Car):\n",
    "    def saying(self):\n",
    "        print(\"I'm a Book!!\")\n",
    "    def need_a_push(self):\n",
    "        print(\"Need help?\")\n",
    "new_book=Book()"
   ]
  },
  {
   "cell_type": "code",
   "execution_count": 21,
   "metadata": {},
   "outputs": [
    {
     "name": "stdout",
     "output_type": "stream",
     "text": [
      "I'm a Car!\n",
      "I'm a Book!!\n",
      "Need help?\n"
     ]
    }
   ],
   "source": [
    "give_me_a_book.saying()\n",
    "new_book.saying()\n",
    "new_book.need_a_push()"
   ]
  },
  {
   "cell_type": "markdown",
   "metadata": {},
   "source": [
    "# 第一題"
   ]
  },
  {
   "cell_type": "code",
   "execution_count": 25,
   "metadata": {},
   "outputs": [
    {
     "name": "stdout",
     "output_type": "stream",
     "text": [
      "restaurant's name: Jocelyn's Restaurant\n",
      "cook way: fried\n",
      "my favorite flavors:['chocolate', 'honey', 'strawberry']\n"
     ]
    }
   ],
   "source": [
    "class Restaurant():\n",
    "    def __init__(self,name,cook):\n",
    "        self.name = name\n",
    "        self.cook = cook\n",
    "    def describe(self):\n",
    "        print(\"restaurant's name: \" + self.name + \"\\ncook way: \" + self.cook)\n",
    "        \n",
    "class IceCreamStand(Restaurant):\n",
    "    def show_flavors(self,flavor=[]):\n",
    "        self.flavors=[\"chocolate\",\"honey\",\"strawberry\"]\n",
    "        print(\"my favorite flavors:\"+ str(self.flavors))\n",
    "        \n",
    "x_restaurant=Restaurant(\"Jocelyn's Restaurant\",\"fried\")\n",
    "x_restaurant.describe()\n",
    "\n",
    "x_iceCreamStand=IceCreamStand(\"Jocelyn's ice cream stand\",\"iced\")\n",
    "x_iceCreamStand.show_flavors()"
   ]
  },
  {
   "cell_type": "markdown",
   "metadata": {},
   "source": [
    "# 地"
   ]
  },
  {
   "cell_type": "code",
   "execution_count": 1,
   "metadata": {},
   "outputs": [],
   "source": [
    "class A(object): \n",
    "\n",
    "    def go(self): \n",
    "        print (\"go A go!\") \n",
    "\n",
    "    def stop(self): \n",
    "        print (\"stop A stop!\") \n",
    "\n",
    "    def pause(self): \n",
    "        raise Exception(\"Not Implemented\")\n",
    "\n",
    "\n",
    "class B(A): \n",
    "\n",
    "    def go(self): \n",
    "        super(B, self).go() \n",
    "        print (\"go B go!\")\n",
    "        \n",
    "class C(A): \n",
    "\n",
    "    def go(self): \n",
    "        super(C, self).go() \n",
    "        print (\"go C go!\")\n",
    "\n",
    "\n",
    "    def stop(self): \n",
    "        super(C, self).stop()\n",
    "        print (\"stop C stop!\") \n",
    "\n",
    "class D(B,C): \n",
    "\n",
    "    def go(self): \n",
    "        super(D, self).go() \n",
    "        print (\"go D go!\")\n",
    "\n",
    "    def stop(self): \n",
    "        super(D, self).stop()\n",
    "        print (\"stop D stop!\") \n",
    "    \n",
    "    def pause(self): \n",
    "        print (\"wait D wait!\") \n",
    "\n",
    "class E(B,C):\n",
    "    pass"
   ]
  },
  {
   "cell_type": "code",
   "execution_count": 7,
   "metadata": {},
   "outputs": [
    {
     "name": "stdout",
     "output_type": "stream",
     "text": [
      "go A go!\n",
      "go A go!\n",
      "go B go!\n",
      "go A go!\n",
      "go C go!\n",
      "go A go!\n",
      "go C go!\n",
      "go B go!\n",
      "go D go!\n",
      "go A go!\n",
      "go C go!\n",
      "go B go!\n",
      "stop A stop!\n",
      "stop A stop!\n",
      "stop A stop!\n",
      "stop C stop!\n",
      "stop A stop!\n",
      "stop C stop!\n",
      "stop D stop!\n",
      "stop A stop!\n",
      "stop C stop!\n"
     ]
    },
    {
     "ename": "Exception",
     "evalue": "Not Implemented",
     "output_type": "error",
     "traceback": [
      "\u001b[1;31m---------------------------------------------------------------------------\u001b[0m",
      "\u001b[1;31mException\u001b[0m                                 Traceback (most recent call last)",
      "\u001b[1;32m<ipython-input-7-a04c5f48592f>\u001b[0m in \u001b[0;36m<module>\u001b[1;34m()\u001b[0m\n\u001b[0;32m     17\u001b[0m \u001b[0me\u001b[0m\u001b[1;33m.\u001b[0m\u001b[0mstop\u001b[0m\u001b[1;33m(\u001b[0m\u001b[1;33m)\u001b[0m\u001b[1;33m\u001b[0m\u001b[0m\n\u001b[0;32m     18\u001b[0m \u001b[1;33m\u001b[0m\u001b[0m\n\u001b[1;32m---> 19\u001b[1;33m \u001b[0ma\u001b[0m\u001b[1;33m.\u001b[0m\u001b[0mpause\u001b[0m\u001b[1;33m(\u001b[0m\u001b[1;33m)\u001b[0m\u001b[1;33m\u001b[0m\u001b[0m\n\u001b[0m\u001b[0;32m     20\u001b[0m \u001b[0mb\u001b[0m\u001b[1;33m.\u001b[0m\u001b[0mpause\u001b[0m\u001b[1;33m(\u001b[0m\u001b[1;33m)\u001b[0m\u001b[1;33m\u001b[0m\u001b[0m\n\u001b[0;32m     21\u001b[0m \u001b[0mc\u001b[0m\u001b[1;33m.\u001b[0m\u001b[0mpause\u001b[0m\u001b[1;33m(\u001b[0m\u001b[1;33m)\u001b[0m\u001b[1;33m\u001b[0m\u001b[0m\n",
      "\u001b[1;32m<ipython-input-1-eeeea547a1f1>\u001b[0m in \u001b[0;36mpause\u001b[1;34m(self)\u001b[0m\n\u001b[0;32m      8\u001b[0m \u001b[1;33m\u001b[0m\u001b[0m\n\u001b[0;32m      9\u001b[0m     \u001b[1;32mdef\u001b[0m \u001b[0mpause\u001b[0m\u001b[1;33m(\u001b[0m\u001b[0mself\u001b[0m\u001b[1;33m)\u001b[0m\u001b[1;33m:\u001b[0m\u001b[1;33m\u001b[0m\u001b[0m\n\u001b[1;32m---> 10\u001b[1;33m         \u001b[1;32mraise\u001b[0m \u001b[0mException\u001b[0m\u001b[1;33m(\u001b[0m\u001b[1;34m\"Not Implemented\"\u001b[0m\u001b[1;33m)\u001b[0m\u001b[1;33m\u001b[0m\u001b[0m\n\u001b[0m\u001b[0;32m     11\u001b[0m \u001b[1;33m\u001b[0m\u001b[0m\n\u001b[0;32m     12\u001b[0m \u001b[1;33m\u001b[0m\u001b[0m\n",
      "\u001b[1;31mException\u001b[0m: Not Implemented"
     ]
    }
   ],
   "source": [
    "a=A()\n",
    "b=B()\n",
    "c=C()\n",
    "d=D()\n",
    "e=E()\n",
    "\n",
    "a.go() \n",
    "b.go() \n",
    "c.go() \n",
    "d.go() \n",
    "e.go()\n",
    "\n",
    "a.stop()\n",
    "b.stop()\n",
    "c.stop()\n",
    "d.stop()\n",
    "e.stop()\n",
    "\n",
    "a.pause()\n",
    "b.pause()\n",
    "c.pause()\n",
    "d.pause()\n",
    "e.pause()"
   ]
  },
  {
   "cell_type": "code",
   "execution_count": null,
   "metadata": {},
   "outputs": [],
   "source": []
  }
 ],
 "metadata": {
  "kernelspec": {
   "display_name": "Python 3",
   "language": "python",
   "name": "python3"
  },
  "language_info": {
   "codemirror_mode": {
    "name": "ipython",
    "version": 3
   },
   "file_extension": ".py",
   "mimetype": "text/x-python",
   "name": "python",
   "nbconvert_exporter": "python",
   "pygments_lexer": "ipython3",
   "version": "3.6.4"
  }
 },
 "nbformat": 4,
 "nbformat_minor": 2
}
