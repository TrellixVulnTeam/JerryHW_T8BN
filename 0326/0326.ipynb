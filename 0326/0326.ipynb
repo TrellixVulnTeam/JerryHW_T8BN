{
 "cells": [
  {
   "cell_type": "code",
   "execution_count": 1,
   "metadata": {},
   "outputs": [
    {
     "data": {
      "text/plain": [
       "[1, 4, 9, 16, 25]"
      ]
     },
     "execution_count": 1,
     "metadata": {},
     "output_type": "execute_result"
    }
   ],
   "source": [
    "def square(x):\n",
    "    return x**2\n",
    "\n",
    "list(map(square , [1,2,3,4,5]))"
   ]
  },
  {
   "cell_type": "markdown",
   "metadata": {},
   "source": [
    "# 第一題"
   ]
  },
  {
   "cell_type": "code",
   "execution_count": 2,
   "metadata": {},
   "outputs": [
    {
     "name": "stdout",
     "output_type": "stream",
     "text": [
      "請輸入數字:500\n"
     ]
    },
    {
     "data": {
      "text/plain": [
       "[600]"
      ]
     },
     "execution_count": 2,
     "metadata": {},
     "output_type": "execute_result"
    }
   ],
   "source": [
    "x=int(input(\"請輸入數字:\"))\n",
    "list(map(lambda n:n+100,[x]))\n"
   ]
  },
  {
   "cell_type": "markdown",
   "metadata": {},
   "source": [
    "# 第二題"
   ]
  },
  {
   "cell_type": "code",
   "execution_count": 3,
   "metadata": {},
   "outputs": [
    {
     "name": "stdout",
     "output_type": "stream",
     "text": [
      "('add_ints結果', 12)\n",
      "相加後: 12\n"
     ]
    },
    {
     "data": {
      "text/plain": [
       "('mutiply結果', 20)"
      ]
     },
     "execution_count": 3,
     "metadata": {},
     "output_type": "execute_result"
    }
   ],
   "source": [
    "def mutiply_it(func):\n",
    "    def new_function(*args):\n",
    "        result=func(*args)\n",
    "        print('相加後:',result)\n",
    "        return ('mutiply結果',args[0]*args[1])\n",
    "    return new_function\n",
    "\n",
    "def add_ints(a,b):\n",
    "    return ('add_ints結果',a+b)\n",
    "\n",
    "print(add_ints(10,2))\n",
    "\n",
    "@mutiply_it\n",
    "def add_ints(a,b):\n",
    "    return a+b\n",
    "\n",
    "add_ints(10,2)\n",
    "\n"
   ]
  },
  {
   "cell_type": "code",
   "execution_count": 4,
   "metadata": {},
   "outputs": [
    {
     "name": "stdout",
     "output_type": "stream",
     "text": [
      "() {}\n",
      "(1, 2, 3) {}\n",
      "(2, 3, 4) {}\n",
      "('x', 'y', 'z') {}\n",
      "() {'x': 1, 'y': 2, 'z': 3}\n",
      "(1, 2, 3) {'x': 1, 'y': 2, 'z': 3}\n",
      "(0,) {}\n",
      "(0, 1, 2, 3) {}\n",
      "(0,) {'x': 1, 'y': 2, 'z': 3}\n",
      "(0, 1, 2, 3) {'tName': 'hi', 'x': 1, 'y': 2, 'z': 3}\n"
     ]
    }
   ],
   "source": [
    "tList = [1,2,3]\n",
    "tTuple = (2,3,4)\n",
    "tDict = {'x':1,'y':2,'z':3}\n",
    "def testFunc(*args, **kwargs):\n",
    "    print (args, kwargs)\n",
    "    \n",
    "testFunc()\n",
    "testFunc(*tList)\n",
    "testFunc(*tTuple)\n",
    "testFunc(*tDict)\n",
    "testFunc(**tDict)\n",
    "testFunc(*tList, **tDict)\n",
    "testFunc(0)\n",
    "testFunc(0, *tList)\n",
    "testFunc(0, **tDict)\n",
    "testFunc(0, *tList, tName=\"hi\", **tDict)"
   ]
  },
  {
   "cell_type": "markdown",
   "metadata": {},
   "source": [
    "# 第三題"
   ]
  },
  {
   "cell_type": "code",
   "execution_count": 5,
   "metadata": {},
   "outputs": [
    {
     "name": "stdout",
     "output_type": "stream",
     "text": [
      "請輸入一整數:201.5\n",
      "出錯，請重新輸入\n"
     ]
    }
   ],
   "source": [
    "try:\n",
    "    int(input(\"請輸入一整數:\"))\n",
    "except:\n",
    "    print(\"出錯，請重新輸入\")"
   ]
  },
  {
   "cell_type": "markdown",
   "metadata": {},
   "source": [
    "# 第四題"
   ]
  },
  {
   "cell_type": "code",
   "execution_count": null,
   "metadata": {},
   "outputs": [
    {
     "name": "stdout",
     "output_type": "stream",
     "text": [
      "請輸入你要+,-,*,/:-\n"
     ]
    }
   ],
   "source": [
    "from source import calculator\n",
    "operate=input(\"請輸入你要+,-,*,/:\")\n",
    "num1=int(input('請輸入第一個數字:'))\n",
    "num2=int(input('請輸入第二個數字:'))\n",
    "if operate == '+':\n",
    "    print(calculator.add(num1,num2))\n",
    "elif operate == '-':\n",
    "    print(calculator.minus(num1,num2))\n",
    "elif operate == '*':\n",
    "    print(calculator.mutiply(num1,num2))\n",
    "elif operate == '/':\n",
    "    print(calculator.divide(num1,num2))\n",
    "else:\n",
    "    print(\"輸入值有誤，請輸入+,-,*,/:\")"
   ]
  },
  {
   "cell_type": "code",
   "execution_count": null,
   "metadata": {},
   "outputs": [],
   "source": []
  }
 ],
 "metadata": {
  "kernelspec": {
   "display_name": "Python 3",
   "language": "python",
   "name": "python3"
  },
  "language_info": {
   "codemirror_mode": {
    "name": "ipython",
    "version": 3
   },
   "file_extension": ".py",
   "mimetype": "text/x-python",
   "name": "python",
   "nbconvert_exporter": "python",
   "pygments_lexer": "ipython3",
   "version": "3.6.4"
  }
 },
 "nbformat": 4,
 "nbformat_minor": 2
}
